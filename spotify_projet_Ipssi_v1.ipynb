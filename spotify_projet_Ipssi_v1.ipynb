{
 "cells": [
  {
   "cell_type": "code",
   "execution_count": 26,
   "id": "13710258",
   "metadata": {},
   "outputs": [],
   "source": [
    "import requests\n",
    "import base64\n",
    "import pandas as pd\n",
    "from pprint import pprint\n",
    "import json\n",
    "from urllib.parse import urlencode\n",
    "from flask import Flask, render_template, request, redirect, url_for,jsonify"
   ]
  },
  {
   "cell_type": "markdown",
   "metadata": {},
   "source": [
    "# Get TOKEN\n"
   ]
  },
  {
   "cell_type": "code",
   "execution_count": 27,
   "metadata": {},
   "outputs": [],
   "source": [
    "def getToken():\n",
    "    client_id = \"e3aaa86dda014fd3b0c7d0df640cf422\"\n",
    "    client_secret = \"28fe6be9003c45b897164682d1f83751\"\n",
    "    client_creds = f\"{client_id}:{client_secret}\"\n",
    "    client_creds_64 = base64.b64encode(client_creds.encode())\n",
    "    token_url = \"https://accounts.spotify.com/api/token\"\n",
    "    method = \"POST\"\n",
    "    token_data = {\n",
    "        \"grant_type\": \"client_credentials\"\n",
    "    }\n",
    "    token_header = {\n",
    "        \"Authorization\": f\"Basic {client_creds_64.decode()}\"\n",
    "    }\n",
    "    r = requests.post(token_url, data=token_data, headers=token_header)\n",
    "    response = r.json()\n",
    "    access_token = response['access_token']\n",
    "    head = {\n",
    "     \"Authorization\": f\"Bearer {access_token}\"\n",
    "    }\n",
    "    return head"
   ]
  },
  {
   "cell_type": "markdown",
   "metadata": {},
   "source": [
    "# Get playlist by Id"
   ]
  },
  {
   "cell_type": "code",
   "execution_count": 28,
   "metadata": {},
   "outputs": [],
   "source": [
    "def get_playlist_by_id(id):\n",
    "    playlist_id = id\n",
    "    BASE_URL = f\"https://api.spotify.com/v1/playlists/{playlist_id}\"\n",
    "    \n",
    "\n",
    "    response = requests.request(\"GET\", BASE_URL, headers=getToken())\n",
    "    return response.json()\n",
    "\n",
    "#pprint(get_playlist_by_id('2wTyHjihNbUovf1uRE4GMh'))\n",
    "\n",
    "\n"
   ]
  },
  {
   "cell_type": "markdown",
   "metadata": {},
   "source": [
    "# Get top Playlist by Categorie\n"
   ]
  },
  {
   "cell_type": "code",
   "execution_count": 29,
   "metadata": {},
   "outputs": [],
   "source": [
    "playlist_cat = \"https://api.spotify.com/v1/search\"\n",
    "def topPlaylist(categorie, limit = 10):\n",
    "    resultat_final = []\n",
    "    \n",
    "    for cat in categorie:\n",
    "        playlist_clean = []\n",
    "        dict_par_categorie = {}\n",
    "        \n",
    "        params = urlencode({\"q\": cat, \"type\": \"playlist\", \"limit\": limit})\n",
    "        playlist_url = f\"{playlist_cat}?{params}\"\n",
    "        response = requests.get(playlist_url, headers=getToken())\n",
    "        #Si tous s'est bien passé\n",
    "        if response.status_code == 200:\n",
    "            list_playlists = response.json()['playlists']['items']\n",
    "            \n",
    "            for p in list_playlists:\n",
    "                keys = ['name', 'description', 'id']\n",
    "                playlist = {k:p[k] for k in keys}\n",
    "                playlist_clean.append(playlist)\n",
    "            dict_par_categorie[cat] = playlist_clean\n",
    "            resultat_final.append(dict_par_categorie)\n",
    "    return resultat_final\n",
    "\n",
    "#topPlaylist(['sport','motivation'],10)"
   ]
  },
  {
   "cell_type": "markdown",
   "metadata": {},
   "source": [
    "# Get artist by id "
   ]
  },
  {
   "cell_type": "code",
   "execution_count": 30,
   "metadata": {},
   "outputs": [],
   "source": [
    "artist_id = '3fMbdgg4jU18AjLCKBhRSm'\n",
    "\n",
    "\n",
    "def get_artist_by_id(id):\n",
    "    artist_id = id\n",
    "    BASE_URL = f\"https://api.spotify.com/v1/artists/{artist_id}\"\n",
    "    \n",
    "\n",
    "    response = requests.request(\"GET\", BASE_URL, headers=getToken())\n",
    "    return response.json()\n",
    "\n",
    "#pprint(get_artist_by_id(artist_id))"
   ]
  },
  {
   "cell_type": "markdown",
   "metadata": {},
   "source": [
    "# Get albums by artist_id"
   ]
  },
  {
   "cell_type": "code",
   "execution_count": 31,
   "metadata": {},
   "outputs": [],
   "source": [
    "def get_albums_by_artist_id(id):\n",
    "    artist_id = id\n",
    "    BASE_URL = f\"https://api.spotify.com/v1/artists/{artist_id}/albums\"\n",
    "    \n",
    "\n",
    "    response = requests.request(\"GET\", BASE_URL, headers=getToken())\n",
    "    return response.json()\n",
    "\n",
    "#pprint(get_albums_by_artist_id('3fMbdgg4jU18AjLCKBhRSm'))"
   ]
  },
  {
   "cell_type": "code",
   "execution_count": 32,
   "metadata": {},
   "outputs": [],
   "source": [
    "with open('test_json.json','w') as f:\n",
    "    json.dump(get_albums_by_artist_id('3fMbdgg4jU18AjLCKBhRSm'),f)"
   ]
  },
  {
   "cell_type": "markdown",
   "metadata": {},
   "source": [
    "# Get nb followers by playlist\n"
   ]
  },
  {
   "cell_type": "code",
   "execution_count": 33,
   "metadata": {},
   "outputs": [
    {
     "name": "stdout",
     "output_type": "stream",
     "text": [
      "{'href': None, 'total': 20409}\n"
     ]
    }
   ],
   "source": [
    "def nb_followers(playlist_id):\n",
    "    response = get_playlist_by_id(playlist_id)['followers']\n",
    "   \n",
    "    return response\n",
    "\n",
    "print(nb_followers('2wTyHjihNbUovf1uRE4GMh'))"
   ]
  },
  {
   "cell_type": "code",
   "execution_count": 34,
   "metadata": {},
   "outputs": [],
   "source": [
    "\n",
    "url_sadi= \"https://api.spotify.com/v1/search\"  \n",
    "\n",
    "def get_albums_by_artist_per_country(artist_name,code_country,limit=10):\n",
    "\n",
    "    params = urlencode({\"q\": artist_name,\"market\": code_country,\"type\":\"album\", \"limit\": limit})\n",
    "    test = f\"{url_sadi}?{params}\"\n",
    "    #print(test)\n",
    "          \n",
    "    response = requests.get(test, headers=getToken())\n",
    "    if response.status_code == 200:\n",
    "        list_albums=response.json()['albums']['items']\n",
    "        albums_clean=[]\n",
    "        for item in list_albums:\n",
    "            keys=['name','external_urls']\n",
    "            albums_dic={k:item[k] for k in keys}\n",
    "            albums_clean.append(albums_dic)\n",
    "        json_response = {'albums':albums_clean}\n",
    "    return json_response\n",
    "\n",
    "#pprint(get_albums_by_artist_per_country(\"jackson\",\"Fr\",10))\n",
    "   \n"
   ]
  },
  {
   "cell_type": "code",
   "execution_count": 35,
   "metadata": {},
   "outputs": [],
   "source": [
    "#une methode qui renvoi un top x de playlist selon une categorire\n",
    "playlist_cat = \"https://api.spotify.com/v1/search\"\n",
    "def topPlaylist(categorie, limit = 10):\n",
    "    resultat_final = []\n",
    "    \n",
    "    for cat in categorie:\n",
    "        playlist_clean = []\n",
    "        dict_par_categorie = {}\n",
    "        \n",
    "        params = urlencode({\"q\": cat, \"type\": \"playlist\", \"limit\": limit})\n",
    "        playlist_url = f\"{playlist_cat}?{params}\"\n",
    "        response = requests.get(playlist_url, headers=getToken())\n",
    "        #Si tous s'est bien passé\n",
    "        if response.status_code == 200:\n",
    "            list_playlists = response.json()['playlists']['items']\n",
    "            \n",
    "            for p in list_playlists:\n",
    "                keys = ['name', 'description', 'id']\n",
    "                playlist = {k:p[k] for k in keys}\n",
    "                playlist_clean.append(playlist)\n",
    "            dict_par_categorie[cat] = playlist_clean\n",
    "            resultat_final.append(dict_par_categorie)\n",
    "    return resultat_final\n",
    "\n",
    "#pprint(topPlaylist(['sport','motivation'],2))\n"
   ]
  },
  {
   "cell_type": "markdown",
   "metadata": {},
   "source": [
    "# get_nb_followers_by_playlist_name for top playlist"
   ]
  },
  {
   "cell_type": "code",
   "execution_count": 36,
   "metadata": {},
   "outputs": [],
   "source": [
    "# def get_nb_followers_by_playlist_name(categorie, nom):\n",
    "#     cat=[]\n",
    "#     cat.append(categorie)\n",
    "\n",
    "#     list_cat=topPlaylist(cat,10)\n",
    "\n",
    "#     listtop = list_cat[0].get(cat[0])\n",
    "#     nb_followers=-1\n",
    "#     i=0\n",
    "#     while i < len(listtop) :\n",
    "#         if listtop[i].get('name') == nom:\n",
    "#             nb_followers = get_nb_followers_by_playlist(listtop[i].get('id'))\n",
    "#         i+=1\n",
    "#     return nb_followers\n",
    "\n",
    "# print(get_nb_followers_by_playlist_name('motivation','MOTIVATION'))\n",
    "# #\n",
    "# # print(get_nb_followers_by_playlist_name('motivation','Morning Motivation'))"
   ]
  },
  {
   "cell_type": "markdown",
   "metadata": {},
   "source": [
    "## id playlist\n",
    "- sport :\n",
    "2Ikjjx2x7HX0Iw90AAKgXS\n",
    "- motivation :\n",
    "78Suoigk80gI9mI9z5tYl8\n",
    "\n",
    "## id artist\n",
    "1rT9J8vtPCzEKL7oGntxnr"
   ]
  },
  {
   "cell_type": "code",
   "execution_count": 38,
   "metadata": {},
   "outputs": [
    {
     "name": "stdout",
     "output_type": "stream",
     "text": [
      " * Serving Flask app \"__main__\" (lazy loading)\n",
      " * Environment: production\n",
      "   WARNING: This is a development server. Do not use it in a production deployment.\n",
      "   Use a production WSGI server instead.\n",
      " * Debug mode: off\n"
     ]
    },
    {
     "name": "stderr",
     "output_type": "stream",
     "text": [
      " * Running on http://127.0.0.1:5000/ (Press CTRL+C to quit)\n",
      "127.0.0.1 - - [15/Oct/2021 16:06:50] \"\u001b[37mGET /playlist?id=2Ikjjx2x7HX0Iw90AAKgXS HTTP/1.1\u001b[0m\" 200 -\n",
      "127.0.0.1 - - [15/Oct/2021 16:06:56] \"\u001b[37mGET /categorie HTTP/1.1\u001b[0m\" 200 -\n",
      "127.0.0.1 - - [15/Oct/2021 16:07:02] \"\u001b[37mGET /playlist?id=2Ikjjx2x7HX0Iw90AAKgXS HTTP/1.1\u001b[0m\" 200 -\n",
      "127.0.0.1 - - [15/Oct/2021 16:07:07] \"\u001b[37mGET /artist?id=1rT9J8vtPCzEKL7oGntxnr HTTP/1.1\u001b[0m\" 200 -\n",
      "127.0.0.1 - - [15/Oct/2021 16:08:00] \"\u001b[37mGET /artist?id=1rT9J8vtPCzEKL7oGntxnr HTTP/1.1\u001b[0m\" 200 -\n",
      "127.0.0.1 - - [15/Oct/2021 16:08:07] \"\u001b[37mGET /albumsArtist?id=1rT9J8vtPCzEKL7oGntxnr HTTP/1.1\u001b[0m\" 200 -\n",
      "127.0.0.1 - - [15/Oct/2021 16:12:14] \"\u001b[37mGET /artist?id=1rT9J8vtPCzEKL7oGntxnr HTTP/1.1\u001b[0m\" 200 -\n",
      "127.0.0.1 - - [15/Oct/2021 16:12:17] \"\u001b[37mGET /albumsCountry?name=jackson&country=fr HTTP/1.1\u001b[0m\" 200 -\n"
     ]
    },
    {
     "name": "stdout",
     "output_type": "stream",
     "text": [
      "jackson\n",
      "fr\n"
     ]
    },
    {
     "name": "stderr",
     "output_type": "stream",
     "text": [
      "127.0.0.1 - - [15/Oct/2021 16:12:20] \"\u001b[37mGET /followers?id=2wTyHjihNbUovf1uRE4GMh HTTP/1.1\u001b[0m\" 200 -\n"
     ]
    }
   ],
   "source": [
    "app=Flask(__name__)\n",
    "\n",
    "@app.route('/')\n",
    "def home(): \n",
    "    return render_template(\"index.html\")\n",
    "\n",
    "@app.route('/categorie')\n",
    "def categorie(): \n",
    "    response = topPlaylist(['sport','motivation','études','amour'])\n",
    "    #pprint(response) \n",
    "    return jsonify(response)\n",
    "    \n",
    "\n",
    "@app.route('/artist')\n",
    "def artist_by_id():\n",
    "    id=request.args.get('id') \n",
    "    response = get_artist_by_id(id)\n",
    "    #pprint(response) \n",
    "    return jsonify(response)\n",
    "\n",
    "\n",
    "@app.route('/playlist')\n",
    "def playlist_by_id(): \n",
    "    id=request.args.get('id')\n",
    "    response = get_playlist_by_id(id)\n",
    "    #pprint(response) \n",
    "    return jsonify(response)\n",
    "\n",
    "\n",
    "@app.route('/albumsArtist')\n",
    "def albums_by_artist_id(): \n",
    "    id=request.args.get('id') \n",
    "    response = get_albums_by_artist_id(id)\n",
    "    #pprint(response) \n",
    "    return jsonify(response)\n",
    "\n",
    "@app.route('/albumsCountry')\n",
    "def albums_by_artist_per_country(): \n",
    "    name=request.args.get('name')\n",
    "    print(name)\n",
    "    country=request.args.get('country')\n",
    "    print(country)\n",
    "    response = get_albums_by_artist_per_country(name,country,10)\n",
    "    #pprint(response)\n",
    "    return jsonify(response)\n",
    "\n",
    "@app.route('/followers')\n",
    "def get_nb_followers():\n",
    "    id=request.args.get('id') \n",
    "    response = nb_followers(id)\n",
    "    #pprint(response)\n",
    "    return jsonify(response)\n",
    "\n",
    "    \n",
    "app.run()\n"
   ]
  }
 ],
 "metadata": {
  "interpreter": {
   "hash": "14a85cc70f7003e83d7fa20c5177b8923872721ebc54ca0ea4ee1aa0a299fa46"
  },
  "kernelspec": {
   "display_name": "Python 3.8.8 64-bit ('base': conda)",
   "name": "python3"
  },
  "language_info": {
   "codemirror_mode": {
    "name": "ipython",
    "version": 3
   },
   "file_extension": ".py",
   "mimetype": "text/x-python",
   "name": "python",
   "nbconvert_exporter": "python",
   "pygments_lexer": "ipython3",
   "version": "3.8.8"
  }
 },
 "nbformat": 4,
 "nbformat_minor": 5
}
