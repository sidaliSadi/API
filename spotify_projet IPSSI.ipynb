{
 "cells": [
  {
   "cell_type": "code",
   "execution_count": 331,
   "id": "13710258",
   "metadata": {},
   "outputs": [],
   "source": [
    "import requests\n",
    "import base64\n",
    "import pandas as pd\n",
    "from pprint import pprint\n",
    "import json\n",
    "from urllib.parse import urlencode\n",
    "from flask import Flask, render_template, request, redirect, url_for,jsonify"
   ]
  },
  {
   "cell_type": "markdown",
   "metadata": {},
   "source": [
    "# Get TOKEN\n"
   ]
  },
  {
   "cell_type": "code",
   "execution_count": 332,
   "metadata": {},
   "outputs": [],
   "source": [
    "def getToken():\n",
    "    client_id = \"e3aaa86dda014fd3b0c7d0df640cf422\"\n",
    "    client_secret = \"28fe6be9003c45b897164682d1f83751\"\n",
    "    client_creds = f\"{client_id}:{client_secret}\"\n",
    "    client_creds_64 = base64.b64encode(client_creds.encode())\n",
    "    token_url = \"https://accounts.spotify.com/api/token\"\n",
    "    method = \"POST\"\n",
    "    token_data = {\n",
    "        \"grant_type\": \"client_credentials\"\n",
    "    }\n",
    "    token_header = {\n",
    "        \"Authorization\": f\"Basic {client_creds_64.decode()}\"\n",
    "    }\n",
    "    r = requests.post(token_url, data=token_data, headers=token_header)\n",
    "    response = r.json()\n",
    "    access_token = response['access_token']\n",
    "    head = {\n",
    "     \"Authorization\": f\"Bearer {access_token}\"\n",
    "    }\n",
    "    return head"
   ]
  },
  {
   "cell_type": "markdown",
   "metadata": {},
   "source": [
    "# Get playlist by Id"
   ]
  },
  {
   "cell_type": "code",
   "execution_count": 333,
   "metadata": {},
   "outputs": [],
   "source": [
    "def get_playlist_by_id(id):\n",
    "    playlist_id = id\n",
    "    BASE_URL = f\"https://api.spotify.com/v1/playlists/{playlist_id}\"\n",
    "    \n",
    "\n",
    "    response = requests.request(\"GET\", BASE_URL, headers=getToken())\n",
    "    return response.json()\n",
    "\n",
    "#pprint(get_playlist_by_id('2wTyHjihNbUovf1uRE4GMh'))\n",
    "\n",
    "\n"
   ]
  },
  {
   "cell_type": "code",
   "execution_count": 334,
   "metadata": {},
   "outputs": [],
   "source": [
    "playlist_cat = \"https://api.spotify.com/v1/search\"\n",
    "def topPlaylist(categorie, limit = 10):\n",
    "    resultat_final = []\n",
    "    \n",
    "    for cat in categorie:\n",
    "        playlist_clean = []\n",
    "        dict_par_categorie = {}\n",
    "        \n",
    "        params = urlencode({\"q\": cat, \"type\": \"playlist\", \"limit\": limit})\n",
    "        playlist_url = f\"{playlist_cat}?{params}\"\n",
    "        response = requests.get(playlist_url, headers=getToken())\n",
    "        #Si tous s'est bien passé\n",
    "        if response.status_code == 200:\n",
    "            list_playlists = response.json()['playlists']['items']\n",
    "            \n",
    "            for p in list_playlists:\n",
    "                keys = ['name', 'description', 'id']\n",
    "                playlist = {k:p[k] for k in keys}\n",
    "                playlist_clean.append(playlist)\n",
    "            dict_par_categorie[cat] = playlist_clean\n",
    "            resultat_final.append(dict_par_categorie)\n",
    "    return resultat_final\n",
    "\n",
    "#topPlaylist(['sport','motivation'],10)"
   ]
  },
  {
   "cell_type": "markdown",
   "metadata": {},
   "source": [
    "# Get artist by id "
   ]
  },
  {
   "cell_type": "code",
   "execution_count": 335,
   "metadata": {},
   "outputs": [],
   "source": [
    "artist_id = '3fMbdgg4jU18AjLCKBhRSm'\n",
    "\n",
    "\n",
    "def get_artist_by_id(id):\n",
    "    artist_id = id\n",
    "    BASE_URL = f\"https://api.spotify.com/v1/artists/{artist_id}\"\n",
    "    \n",
    "\n",
    "    response = requests.request(\"GET\", BASE_URL, headers=getToken())\n",
    "    return response.json()\n",
    "\n",
    "#pprint(get_artist_by_id(artist_id))"
   ]
  },
  {
   "cell_type": "markdown",
   "metadata": {},
   "source": [
    "# Get albums by artist_id"
   ]
  },
  {
   "cell_type": "code",
   "execution_count": 336,
   "metadata": {},
   "outputs": [],
   "source": [
    "def get_albums_by_artist_id(id):\n",
    "    artist_id = id\n",
    "    BASE_URL = f\"https://api.spotify.com/v1/artists/{artist_id}/albums\"\n",
    "    \n",
    "\n",
    "    response = requests.request(\"GET\", BASE_URL, headers=getToken())\n",
    "    return response.json()\n",
    "\n",
    "#pprint(get_albums_by_artist_id('3fMbdgg4jU18AjLCKBhRSm'))"
   ]
  },
  {
   "cell_type": "code",
   "execution_count": 337,
   "metadata": {},
   "outputs": [],
   "source": [
    "with open('test_json.json','w') as f:\n",
    "    json.dump(get_albums_by_artist_id('3fMbdgg4jU18AjLCKBhRSm'),f)"
   ]
  },
  {
   "cell_type": "markdown",
   "metadata": {},
   "source": [
    "# Get nb followers by playlist\n"
   ]
  },
  {
   "cell_type": "code",
   "execution_count": 338,
   "metadata": {},
   "outputs": [
    {
     "ename": "KeyError",
     "evalue": "'tota'",
     "output_type": "error",
     "traceback": [
      "\u001b[1;31m---------------------------------------------------------------------------\u001b[0m",
      "\u001b[1;31mKeyError\u001b[0m                                  Traceback (most recent call last)",
      "\u001b[1;32m~\\AppData\\Local\\Temp/ipykernel_28152/3611422189.py\u001b[0m in \u001b[0;36m<module>\u001b[1;34m\u001b[0m\n\u001b[0;32m      3\u001b[0m     \u001b[1;32mreturn\u001b[0m \u001b[0mresponse\u001b[0m\u001b[1;33m\u001b[0m\u001b[1;33m\u001b[0m\u001b[0m\n\u001b[0;32m      4\u001b[0m \u001b[1;33m\u001b[0m\u001b[0m\n\u001b[1;32m----> 5\u001b[1;33m \u001b[0mprint\u001b[0m\u001b[1;33m(\u001b[0m\u001b[0mnb_followers\u001b[0m\u001b[1;33m(\u001b[0m\u001b[1;34m'2wTyHjihNbUovf1uRE4GMh'\u001b[0m\u001b[1;33m)\u001b[0m\u001b[1;33m)\u001b[0m\u001b[1;33m\u001b[0m\u001b[1;33m\u001b[0m\u001b[0m\n\u001b[0m",
      "\u001b[1;32m~\\AppData\\Local\\Temp/ipykernel_28152/3611422189.py\u001b[0m in \u001b[0;36mnb_followers\u001b[1;34m(playlist_id)\u001b[0m\n\u001b[0;32m      1\u001b[0m \u001b[1;32mdef\u001b[0m \u001b[0mnb_followers\u001b[0m\u001b[1;33m(\u001b[0m\u001b[0mplaylist_id\u001b[0m\u001b[1;33m)\u001b[0m\u001b[1;33m:\u001b[0m\u001b[1;33m\u001b[0m\u001b[1;33m\u001b[0m\u001b[0m\n\u001b[1;32m----> 2\u001b[1;33m     \u001b[0mresponse\u001b[0m \u001b[1;33m=\u001b[0m \u001b[0mget_playlist_by_id\u001b[0m\u001b[1;33m(\u001b[0m\u001b[0mplaylist_id\u001b[0m\u001b[1;33m)\u001b[0m\u001b[1;33m[\u001b[0m\u001b[1;34m'followers'\u001b[0m\u001b[1;33m]\u001b[0m\u001b[1;33m[\u001b[0m\u001b[1;34m'tota'\u001b[0m\u001b[1;33m]\u001b[0m\u001b[1;33m\u001b[0m\u001b[1;33m\u001b[0m\u001b[0m\n\u001b[0m\u001b[0;32m      3\u001b[0m     \u001b[1;32mreturn\u001b[0m \u001b[0mresponse\u001b[0m\u001b[1;33m\u001b[0m\u001b[1;33m\u001b[0m\u001b[0m\n\u001b[0;32m      4\u001b[0m \u001b[1;33m\u001b[0m\u001b[0m\n\u001b[0;32m      5\u001b[0m \u001b[0mprint\u001b[0m\u001b[1;33m(\u001b[0m\u001b[0mnb_followers\u001b[0m\u001b[1;33m(\u001b[0m\u001b[1;34m'2wTyHjihNbUovf1uRE4GMh'\u001b[0m\u001b[1;33m)\u001b[0m\u001b[1;33m)\u001b[0m\u001b[1;33m\u001b[0m\u001b[1;33m\u001b[0m\u001b[0m\n",
      "\u001b[1;31mKeyError\u001b[0m: 'tota'"
     ]
    }
   ],
   "source": [
    "def nb_followers(playlist_id):\n",
    "    response = get_playlist_by_id(playlist_id)['followers']\n",
    "   \n",
    "    return response\n",
    "\n",
    "print(nb_followers('2wTyHjihNbUovf1uRE4GMh'))"
   ]
  },
  {
   "cell_type": "code",
   "execution_count": null,
   "metadata": {},
   "outputs": [],
   "source": [
    "\n",
    "url_sadi= \"https://api.spotify.com/v1/search\"  \n",
    "\n",
    "def get_albums_by_artist_per_country(artist_name,code_country,limit=10):\n",
    "\n",
    "    params = urlencode({\"q\": artist_name,\"market\": code_country,\"type\":\"album\", \"limit\": limit})\n",
    "    test = f\"{url_sadi}?{params}\"\n",
    "    #print(test)\n",
    "          \n",
    "    response = requests.get(test, headers=getToken())\n",
    "    if response.status_code == 200:\n",
    "        list_albums=response.json()['albums']['items']\n",
    "        albums_clean=[]\n",
    "        for item in list_albums:\n",
    "            keys=['name','external_urls']\n",
    "            albums_dic={k:item[k] for k in keys}\n",
    "            albums_clean.append(albums_dic)\n",
    "        json_response = {'albums':albums_clean}\n",
    "    return json_response\n",
    "\n",
    "#pprint(get_albums_by_artist_per_country(\"jackson\",\"Fr\",10))\n",
    "   \n"
   ]
  },
  {
   "cell_type": "code",
   "execution_count": null,
   "metadata": {},
   "outputs": [
    {
     "name": "stdout",
     "output_type": "stream",
     "text": [
      "[{'sport': [{'description': '',\n",
      "             'id': '2Ikjjx2x7HX0Iw90AAKgXS',\n",
      "             'name': 'Sports pump up songs'},\n",
      "            {'description': 'SPORT SPORTS MOTIVATION GYM SONGS MOTIVATION '\n",
      "                            '2021  WORKOUT MUSIC CROSSFIT FITNESS CARDIO '\n",
      "                            'LIFTING WEIGHTS TRAINING TREINING TREINO RUNNING '\n",
      "                            'RUN BEAST MODE HYPE ZUMBA BEASTMODE BODY PUMP '\n",
      "                            'FATBURNER HOT IRON CYCLING GYMNASTICS JOGGING '\n",
      "                            'MUSCLE SPINNING SIT UPS WARM UP GET FIT EXERCISE '\n",
      "                            'FLEXING BASKETBALL',\n",
      "             'id': '4BCuGKY49CIHbr8PifPCUW',\n",
      "             'name': 'SPORT MOTIVATION 2021'}]},\n",
      " {'motivation': [{'description': 'Uplifting and energetic music that helps you '\n",
      "                                 'stay motivated.',\n",
      "                  'id': '37i9dQZF1DXdxcBWuJkbcy',\n",
      "                  'name': 'Motivation Mix'},\n",
      "                 {'description': 'Motivational Speeches - The Best Motivation '\n",
      "                                 'Speech &amp; Music Mixes Playlist on '\n",
      "                                 'spotify. Inspiring and Motivational Speeches '\n",
      "                                 'and talks from the best motivational '\n",
      "                                 'speakers on the planet. Get More at <a '\n",
      "                                 'href=\"http://FearlessMotivation.com\">FearlessMotivation.com</a>',\n",
      "                  'id': '78Suoigk80gI9mI9z5tYl8',\n",
      "                  'name': 'Motivational Speeches - The Best Motivation '\n",
      "                          'Speeches & Music'}]}]\n"
     ]
    }
   ],
   "source": [
    "#une methode qui renvoi un top x de playlist selon une categorire\n",
    "playlist_cat = \"https://api.spotify.com/v1/search\"\n",
    "def topPlaylist(categorie, limit = 10):\n",
    "    resultat_final = []\n",
    "    \n",
    "    for cat in categorie:\n",
    "        playlist_clean = []\n",
    "        dict_par_categorie = {}\n",
    "        \n",
    "        params = urlencode({\"q\": cat, \"type\": \"playlist\", \"limit\": limit})\n",
    "        playlist_url = f\"{playlist_cat}?{params}\"\n",
    "        response = requests.get(playlist_url, headers=getToken())\n",
    "        #Si tous s'est bien passé\n",
    "        if response.status_code == 200:\n",
    "            list_playlists = response.json()['playlists']['items']\n",
    "            \n",
    "            for p in list_playlists:\n",
    "                keys = ['name', 'description', 'id']\n",
    "                playlist = {k:p[k] for k in keys}\n",
    "                playlist_clean.append(playlist)\n",
    "            dict_par_categorie[cat] = playlist_clean\n",
    "            resultat_final.append(dict_par_categorie)\n",
    "    return resultat_final\n",
    "\n",
    "pprint(topPlaylist(['sport','motivation'],2))\n"
   ]
  },
  {
   "cell_type": "markdown",
   "metadata": {},
   "source": [
    "# get_nb_followers_by_playlist_name for top playlist"
   ]
  },
  {
   "cell_type": "code",
   "execution_count": null,
   "metadata": {},
   "outputs": [],
   "source": [
    "# def get_nb_followers_by_playlist_name(categorie, nom):\n",
    "#     cat=[]\n",
    "#     cat.append(categorie)\n",
    "\n",
    "#     list_cat=topPlaylist(cat,10)\n",
    "\n",
    "#     listtop = list_cat[0].get(cat[0])\n",
    "#     nb_followers=-1\n",
    "#     i=0\n",
    "#     while i < len(listtop) :\n",
    "#         if listtop[i].get('name') == nom:\n",
    "#             nb_followers = get_nb_followers_by_playlist(listtop[i].get('id'))\n",
    "#         i+=1\n",
    "#     return nb_followers\n",
    "\n",
    "# print(get_nb_followers_by_playlist_name('motivation','MOTIVATION'))\n",
    "# #\n",
    "# # print(get_nb_followers_by_playlist_name('motivation','Morning Motivation'))"
   ]
  },
  {
   "cell_type": "markdown",
   "metadata": {},
   "source": [
    "## id playlist\n",
    "- sport :\n",
    "2Ikjjx2x7HX0Iw90AAKgXS\n",
    "- motivation :\n",
    "78Suoigk80gI9mI9z5tYl8\n",
    "\n",
    "## id artist\n",
    "1rT9J8vtPCzEKL7oGntxnr"
   ]
  },
  {
   "cell_type": "code",
   "execution_count": 340,
   "metadata": {},
   "outputs": [
    {
     "name": "stdout",
     "output_type": "stream",
     "text": [
      " * Serving Flask app \"__main__\" (lazy loading)\n",
      " * Environment: production\n",
      "   WARNING: This is a development server. Do not use it in a production deployment.\n",
      "   Use a production WSGI server instead.\n",
      " * Debug mode: off\n"
     ]
    },
    {
     "name": "stderr",
     "output_type": "stream",
     "text": [
      " * Running on http://127.0.0.1:5000/ (Press CTRL+C to quit)\n",
      "[2021-10-15 15:37:53,793] ERROR in app: Exception on /followers [GET]\n",
      "Traceback (most recent call last):\n",
      "  File \"C:\\Users\\jubaa\\anaconda3\\lib\\site-packages\\flask\\app.py\", line 2447, in wsgi_app\n",
      "    response = self.full_dispatch_request()\n",
      "  File \"C:\\Users\\jubaa\\anaconda3\\lib\\site-packages\\flask\\app.py\", line 1952, in full_dispatch_request\n",
      "    rv = self.handle_user_exception(e)\n",
      "  File \"C:\\Users\\jubaa\\anaconda3\\lib\\site-packages\\flask\\app.py\", line 1821, in handle_user_exception\n",
      "    reraise(exc_type, exc_value, tb)\n",
      "  File \"C:\\Users\\jubaa\\anaconda3\\lib\\site-packages\\flask\\_compat.py\", line 39, in reraise\n",
      "    raise value\n",
      "  File \"C:\\Users\\jubaa\\anaconda3\\lib\\site-packages\\flask\\app.py\", line 1950, in full_dispatch_request\n",
      "    rv = self.dispatch_request()\n",
      "  File \"C:\\Users\\jubaa\\anaconda3\\lib\\site-packages\\flask\\app.py\", line 1936, in dispatch_request\n",
      "    return self.view_functions[rule.endpoint](**req.view_args)\n",
      "  File \"C:\\Users\\jubaa\\AppData\\Local\\Temp/ipykernel_28152/4130036886.py\", line 50, in get_nb_followers\n",
      "    response = nb_followers(id)\n",
      "  File \"C:\\Users\\jubaa\\AppData\\Local\\Temp/ipykernel_28152/3611422189.py\", line 2, in nb_followers\n",
      "    response = get_playlist_by_id(playlist_id)['followers']['tota']\n",
      "KeyError: 'tota'\n",
      "127.0.0.1 - - [15/Oct/2021 15:37:53] \"\u001b[35m\u001b[1mGET /followers?id=2wTyHjihNbUovf1uRE4GMh HTTP/1.1\u001b[0m\" 500 -\n",
      "[2021-10-15 15:37:58,129] ERROR in app: Exception on /followers [GET]\n",
      "Traceback (most recent call last):\n",
      "  File \"C:\\Users\\jubaa\\anaconda3\\lib\\site-packages\\flask\\app.py\", line 2447, in wsgi_app\n",
      "    response = self.full_dispatch_request()\n",
      "  File \"C:\\Users\\jubaa\\anaconda3\\lib\\site-packages\\flask\\app.py\", line 1952, in full_dispatch_request\n",
      "    rv = self.handle_user_exception(e)\n",
      "  File \"C:\\Users\\jubaa\\anaconda3\\lib\\site-packages\\flask\\app.py\", line 1821, in handle_user_exception\n",
      "    reraise(exc_type, exc_value, tb)\n",
      "  File \"C:\\Users\\jubaa\\anaconda3\\lib\\site-packages\\flask\\_compat.py\", line 39, in reraise\n",
      "    raise value\n",
      "  File \"C:\\Users\\jubaa\\anaconda3\\lib\\site-packages\\flask\\app.py\", line 1950, in full_dispatch_request\n",
      "    rv = self.dispatch_request()\n",
      "  File \"C:\\Users\\jubaa\\anaconda3\\lib\\site-packages\\flask\\app.py\", line 1936, in dispatch_request\n",
      "    return self.view_functions[rule.endpoint](**req.view_args)\n",
      "  File \"C:\\Users\\jubaa\\AppData\\Local\\Temp/ipykernel_28152/4130036886.py\", line 50, in get_nb_followers\n",
      "    response = nb_followers(id)\n",
      "  File \"C:\\Users\\jubaa\\AppData\\Local\\Temp/ipykernel_28152/3611422189.py\", line 2, in nb_followers\n",
      "    response = get_playlist_by_id(playlist_id)['followers']['tota']\n",
      "KeyError: 'tota'\n",
      "127.0.0.1 - - [15/Oct/2021 15:37:58] \"\u001b[35m\u001b[1mGET /followers?id=2wTyHjihNbUovf1uRE4GMh HTTP/1.1\u001b[0m\" 500 -\n"
     ]
    }
   ],
   "source": [
    "app=Flask(__name__)\n",
    "\n",
    "@app.route('/')\n",
    "def home(): \n",
    "    return render_template(\"index.html\")\n",
    "\n",
    "@app.route('/categorie')\n",
    "def categorie(): \n",
    "    response = topPlaylist(['sport','motivation','études','amour'])\n",
    "    #pprint(response) \n",
    "    return jsonify(response)\n",
    "    \n",
    "\n",
    "@app.route('/artist')\n",
    "def artist_by_id():\n",
    "    id=request.args.get('id') \n",
    "    response = get_artist_by_id(id)\n",
    "    #pprint(response) \n",
    "    return jsonify(response)\n",
    "\n",
    "\n",
    "@app.route('/playlist')\n",
    "def playlist_by_id(): \n",
    "    id=request.args.get('id')\n",
    "    response = get_playlist_by_id(id)\n",
    "    #pprint(response) \n",
    "    return jsonify(response)\n",
    "\n",
    "\n",
    "@app.route('/albumsArtist')\n",
    "def albums_by_artist_id(): \n",
    "    id=request.args.get('id') \n",
    "    response = get_albums_by_artist_id(id)\n",
    "    #pprint(response) \n",
    "    return jsonify(response)\n",
    "\n",
    "@app.route('/albumsCountry')\n",
    "def albums_by_artist_per_country(): \n",
    "    name=request.args.get('name')\n",
    "    print(name)\n",
    "    country=request.args.get('country')\n",
    "    print(country)\n",
    "    response = get_albums_by_artist_per_country(name,country,10)\n",
    "    #pprint(response)\n",
    "    return jsonify(response)\n",
    "\n",
    "@app.route('/followers')\n",
    "def get_nb_followers():\n",
    "    id=request.args.get('id') \n",
    "    response = nb_followers(id)\n",
    "    #pprint(response)\n",
    "    return jsonify(response)\n",
    "\n",
    "    \n",
    "app.run()\n"
   ]
  }
 ],
 "metadata": {
  "interpreter": {
   "hash": "14a85cc70f7003e83d7fa20c5177b8923872721ebc54ca0ea4ee1aa0a299fa46"
  },
  "kernelspec": {
   "display_name": "Python 3.8.8 64-bit ('base': conda)",
   "name": "python3"
  },
  "language_info": {
   "codemirror_mode": {
    "name": "ipython",
    "version": 3
   },
   "file_extension": ".py",
   "mimetype": "text/x-python",
   "name": "python",
   "nbconvert_exporter": "python",
   "pygments_lexer": "ipython3",
   "version": "3.8.8"
  }
 },
 "nbformat": 4,
 "nbformat_minor": 5
}
